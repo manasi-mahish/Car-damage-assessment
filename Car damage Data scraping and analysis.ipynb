{
 "cells": [
  {
   "cell_type": "markdown",
   "metadata": {},
   "source": [
    "# Car damage classification\n",
    "Here we will first make a binary classification between damaged and undamaged cars. Next we will determine the damage type. Three damage types are considered here: bonnet, side ways and rear of the car."
   ]
  },
  {
   "cell_type": "code",
   "execution_count": 1,
   "metadata": {},
   "outputs": [],
   "source": [
    "%reload_ext autoreload\n",
    "%autoreload 2\n",
    "%matplotlib inline"
   ]
  },
  {
   "cell_type": "code",
   "execution_count": 24,
   "metadata": {},
   "outputs": [],
   "source": [
    "import os\n",
    "import pandas as pd\n",
    "import shutil\n",
    "from PIL import Image\n",
    "import hashlib\n",
    "import numpy as np\n",
    "from shutil import copyfile\n",
    "import glob\n",
    "import matplotlib.pyplot as plt"
   ]
  },
  {
   "cell_type": "markdown",
   "metadata": {},
   "source": [
    "## web scraping images of damaged and undamaged cars\n",
    "\n",
    "urls = Array.from(document.querySelectorAll('.rg_di .rg_meta')).map(el=>JSON.parse(el.textContent).ou);\n",
    "\n",
    "window.open('data:text/csv;charset=utf-8,' + escape(urls.join('\\n')));"
   ]
  },
  {
   "cell_type": "code",
   "execution_count": 51,
   "metadata": {},
   "outputs": [],
   "source": [
    "dest = 'C:/Users/manas/Desktop/Kaggle projects/Car crash/cars_undamaged/'\n",
    "filepath = dest + 'cars.csv'"
   ]
  },
  {
   "cell_type": "code",
   "execution_count": 52,
   "metadata": {},
   "outputs": [],
   "source": [
    "download_images(filepath, dest, max_pics=1000, max_workers=0) # downloading images to local drive"
   ]
  },
  {
   "cell_type": "code",
   "execution_count": 53,
   "metadata": {},
   "outputs": [],
   "source": [
    "verify_images(dest, delete=True)"
   ]
  },
  {
   "cell_type": "code",
   "execution_count": 62,
   "metadata": {},
   "outputs": [],
   "source": [
    "# To rename multiple files in a directory or folder\n",
    "# for searched google images using different keywords\n",
    "  \n",
    "path = \"C:/Users/manas/Desktop/Kaggle projects/Car crash/side_damage/\"\n",
    "  \n",
    "# Function to rename multiple files \n",
    "def main(): \n",
    "    i = 0\n",
    "      \n",
    "    for filename in os.listdir(path): \n",
    "        dst =\"side_\" + str(i+1) + \".jpg\"\n",
    "        src =path + filename \n",
    "        dst = path + dst \n",
    "          \n",
    "        # rename() function will \n",
    "        # rename all the files \n",
    "        os.rename(src, dst) \n",
    "        i += 1\n",
    "  \n",
    "# Driver Code \n",
    "if __name__ == '__main__': \n",
    "      \n",
    "    # Calling main() function \n",
    "    main() "
   ]
  },
  {
   "cell_type": "markdown",
   "metadata": {},
   "source": [
    "## Number of images per class"
   ]
  },
  {
   "cell_type": "code",
   "execution_count": 65,
   "metadata": {},
   "outputs": [
    {
     "name": "stdout",
     "output_type": "stream",
     "text": [
      "Number of cars_damaged images: 375\n",
      "Number of cars_undamaged images: 397\n"
     ]
    }
   ],
   "source": [
    "path = 'C:/Users/manas/Desktop/Kaggle projects/cars/'\n",
    "# define damage classes\n",
    "classes=['cars_damaged','cars_undamaged']\n",
    "# Number of images collected per class\n",
    "for c in classes:\n",
    "  print(\"Number of {} images: {}\".format(c, str(len(get_image_files(path + c)))))"
   ]
  },
  {
   "cell_type": "code",
   "execution_count": 64,
   "metadata": {},
   "outputs": [
    {
     "name": "stdout",
     "output_type": "stream",
     "text": [
      "Number of bonnet_damage images: 172\n",
      "Number of rear_damage images: 150\n",
      "Number of side_damage images: 164\n"
     ]
    }
   ],
   "source": [
    "path = 'C:/Users/manas/Desktop/Kaggle projects/Car crash/'\n",
    "# define damage classes\n",
    "classes=['bonnet_damage','rear_damage','side_damage']\n",
    "# Number of images collected per class\n",
    "for c in classes:\n",
    "  print(\"Number of {} images: {}\".format(c, str(len(get_image_files(path + c)))))"
   ]
  },
  {
   "cell_type": "code",
   "execution_count": 67,
   "metadata": {},
   "outputs": [
    {
     "data": {
      "image/png": "[encoded data removed]",
      "text/plain": [
       "<Figure size 432x288 with 1 Axes>"
      ]
     },
     "metadata": {
      "needs_background": "light"
     },
     "output_type": "display_data"
    }
   ],
   "source": [
    "# Scatter plot for image resolution: height vs. width\n",
    "width_height=[]\n",
    "for c in classes:\n",
    "  fnames = get_image_files(path + c)\n",
    "  for i in fnames:\n",
    "    im = Image.open(i)\n",
    "    width, height = im.size\n",
    "    width_height.append((width, height))    \n",
    "  \n",
    "for i in width_height:    \n",
    "  plt.scatter(i[0],i[1])\n",
    "  plt.title('Distribution of image sizes')\n",
    "  plt.xlabel('Width')\n",
    "  plt.ylabel('Height')"
   ]
  },
  {
   "cell_type": "code",
   "execution_count": null,
   "metadata": {},
   "outputs": [],
   "source": []
  }
 ],
 "metadata": {
  "kernelspec": {
   "display_name": "Python [conda env:pytorchcpu] *",
   "language": "python",
   "name": "conda-env-pytorchcpu-py"
  },
  "language_info": {
   "codemirror_mode": {
    "name": "ipython",
    "version": 3
   },
   "file_extension": ".py",
   "mimetype": "text/x-python",
   "name": "python",
   "nbconvert_exporter": "python",
   "pygments_lexer": "ipython3",
   "version": "3.7.4"
  }
 },
 "nbformat": 4,
 "nbformat_minor": 2
}
